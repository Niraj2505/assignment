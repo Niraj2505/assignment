{
 "cells": [
  {
   "cell_type": "code",
   "execution_count": 3,
   "id": "1622cde3-5cd2-4f83-b20c-5eb84d032f47",
   "metadata": {},
   "outputs": [
    {
     "name": "stdout",
     "output_type": "stream",
     "text": [
      "0\n",
      "1\n",
      "2\n",
      "3\n",
      "4\n",
      "5\n",
      "6\n",
      "7\n",
      "8\n",
      "9\n"
     ]
    }
   ],
   "source": [
    "## Q:-1\n",
    "\n",
    "##for loop =  when you know the loop should execute n times.\n",
    "n = 10\n",
    "for i in range(0,n):\n",
    "    print(i)\n",
    "    \n",
    "#while loop = Use a while loop when asking for user input. Use a while loop when the increment value is nonstandard.\n",
    "\n",
    "number = int(input('enter the number'))\n",
    "counter = 1\n",
    "while counter <= number:\n",
    "    print(counte\n",
    "\n"
   ]
  },
  {
   "cell_type": "code",
   "execution_count": null,
   "id": "89e90ffd-dd04-4939-bb1e-8121c4cca70e",
   "metadata": {},
   "outputs": [],
   "source": []
  },
  {
   "cell_type": "code",
   "execution_count": null,
   "id": "7b8be79b-a671-4f78-9008-c178d0f89a15",
   "metadata": {},
   "outputs": [],
   "source": []
  },
  {
   "cell_type": "code",
   "execution_count": null,
   "id": "08859ece-6c90-43b7-985e-97c5e33abee0",
   "metadata": {},
   "outputs": [],
   "source": []
  },
  {
   "cell_type": "code",
   "execution_count": null,
   "id": "a4cb9152-e57b-4dce-91e4-592dfcc45e42",
   "metadata": {},
   "outputs": [],
   "source": []
  },
  {
   "cell_type": "code",
   "execution_count": 3,
   "id": "0e2b3982-b036-4bd3-b8d6-6b92bdd1b3bb",
   "metadata": {},
   "outputs": [
    {
     "name": "stdout",
     "output_type": "stream",
     "text": [
      "55\n",
      "3628800\n"
     ]
    }
   ],
   "source": [
    "## Q:-2\n",
    "\n",
    "sum = 0\n",
    "product = 1\n",
    "for i in range(1,11):\n",
    "    sum = sum + i\n",
    "print(sum)\n",
    "for i in range(1,11):\n",
    "    product = product*i\n",
    "print(product)\n"
   ]
  },
  {
   "cell_type": "code",
   "execution_count": 14,
   "id": "0b649fed-5f23-4e1c-bf1d-71c4230833d9",
   "metadata": {},
   "outputs": [
    {
     "name": "stdout",
     "output_type": "stream",
     "text": [
      "55\n",
      "3628800\n"
     ]
    }
   ],
   "source": [
    "##while loop\n",
    "\n",
    "n = 10\n",
    "sum,product = 0,1\n",
    "counter = 1\n",
    "while counter <= n:\n",
    "    sum = sum +counter\n",
    "    product = product * counter\n",
    "    counter = counter + 1\n",
    "print(sum)\n",
    "print(product)"
   ]
  },
  {
   "cell_type": "code",
   "execution_count": null,
   "id": "28b8cc78-b677-4b6c-a4d2-1c237b80cef0",
   "metadata": {},
   "outputs": [],
   "source": [
    "## Q:-3"
   ]
  },
  {
   "cell_type": "code",
   "execution_count": 1,
   "id": "b5503514-bac9-43e4-9dc2-276212191387",
   "metadata": {},
   "outputs": [
    {
     "name": "stdin",
     "output_type": "stream",
     "text": [
      "enter the units 310\n"
     ]
    },
    {
     "name": "stdout",
     "output_type": "stream",
     "text": [
      "2250.0\n"
     ]
    }
   ],
   "source": [
    "## Q:-3\n",
    "\n",
    "bill = int(input(\"enter the units\") ) \n",
    "if bill <= 100:\n",
    "    bill = bill* 4.5\n",
    "    print(bill)\n",
    "elif bill<=200 and bill>=101:\n",
    "    bill =(100*4.5+((bill-100)*6))\n",
    "    print(bill)\n",
    "elif bill<=300 and bill>=201:\n",
    "    bill =(100*4.5+100*6+((bill-200)*10))\n",
    "    print(bill)\n",
    "elif bill>=301:\n",
    "    bill = (100*4.5+100*6+100*10+((bill-300)*20))\n",
    "    print(bill)\n",
    "else:\n",
    "    print('no light bill for you')"
   ]
  },
  {
   "cell_type": "code",
   "execution_count": 27,
   "id": "ea09f493-516d-4e0c-bd60-7a0b8a473bc0",
   "metadata": {},
   "outputs": [],
   "source": [
    "##Q:-4"
   ]
  },
  {
   "cell_type": "code",
   "execution_count": 20,
   "id": "31050257-3d44-4c9c-af78-853f692635c9",
   "metadata": {},
   "outputs": [
    {
     "name": "stdout",
     "output_type": "stream",
     "text": [
      "[False, True, False, True, True, True, False, True, False, True, False, True, False, True, True, True, False, True, False, True, False, True, False, True, True, True, False, True, False, True, False, True, False, True, True, True, False, True, False, True, False, True, False, True, True, True, False, True, False, True, False, True, False, True, True, True, False, True, False, True, False, True, False, True, True, True, False, True, False, True, False, True, False, True, True, True, False, True, False, True, False, True, False, True, True, True, False, True, False, True, False, True, False, True, True, True, False, True, False, True]\n"
     ]
    }
   ],
   "source": [
    "##Q:-4\n",
    "\n",
    "L = list(range(1,101))\n",
    "l = []\n",
    "for i in L:\n",
    "    cube = (i*i*i)\n",
    "    number = cube%4==0 or cube%5==0\n",
    "    l.append(number)\n",
    "print(l)\n",
    "    \n",
    "    \n",
    "    "
   ]
  },
  {
   "cell_type": "code",
   "execution_count": 38,
   "id": "df0fce4d-f928-42ad-96d9-a9f4be53b680",
   "metadata": {},
   "outputs": [],
   "source": [
    "##Q:-5"
   ]
  },
  {
   "cell_type": "code",
   "execution_count": 45,
   "id": "449e1a4e-de65-4e28-a816-e6ff48fc5d95",
   "metadata": {},
   "outputs": [
    {
     "name": "stdout",
     "output_type": "stream",
     "text": [
      "11\n"
     ]
    }
   ],
   "source": [
    "##Q:-5\n",
    "\n",
    "count = 0\n",
    "string = \"I want to become a data scientist\"\n",
    "string.lower()\n",
    "vowels = [\"a\",\"e\",\"i\",\"o\",\"u\"]\n",
    "for i in string:\n",
    "    if i in vowels:\n",
    "        count = count +1\n",
    "print(count)\n",
    "    \n",
    "    "
   ]
  },
  {
   "cell_type": "code",
   "execution_count": null,
   "id": "7cd710e3-ae59-428c-b689-70e83918c905",
   "metadata": {},
   "outputs": [],
   "source": []
  },
  {
   "cell_type": "code",
   "execution_count": null,
   "id": "ef7f5798-30fa-4582-b706-06cafb817075",
   "metadata": {},
   "outputs": [],
   "source": []
  }
 ],
 "metadata": {
  "kernelspec": {
   "display_name": "Python 3 (ipykernel)",
   "language": "python",
   "name": "python3"
  },
  "language_info": {
   "codemirror_mode": {
    "name": "ipython",
    "version": 3
   },
   "file_extension": ".py",
   "mimetype": "text/x-python",
   "name": "python",
   "nbconvert_exporter": "python",
   "pygments_lexer": "ipython3",
   "version": "3.10.8"
  }
 },
 "nbformat": 4,
 "nbformat_minor": 5
}
